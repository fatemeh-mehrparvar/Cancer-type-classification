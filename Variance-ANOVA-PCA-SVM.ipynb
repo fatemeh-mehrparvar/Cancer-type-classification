{
 "cells": [
  {
   "cell_type": "code",
   "execution_count": 1,
   "id": "6977bcf0",
   "metadata": {},
   "outputs": [],
   "source": [
    "import pandas as pd\n",
    "import numpy as np\n",
    "import matplotlib.pyplot as plt\n",
    "import seaborn as sns\n",
    "from sklearn.preprocessing import StandardScaler\n",
    "from sklearn.feature_selection import VarianceThreshold, SelectKBest, f_classif, SelectFromModel\n",
    "from sklearn.model_selection import train_test_split\n",
    "from sklearn.svm import SVC\n",
    "import time\n",
    "from sklearn.feature_selection import SelectKBest, f_classif\n",
    "from sklearn.metrics import accuracy_score, classification_report\n",
    "from sklearn.decomposition import PCA"
   ]
  },
  {
   "cell_type": "code",
   "execution_count": 2,
   "id": "bfec648e",
   "metadata": {},
   "outputs": [],
   "source": [
    "data_gene_ex = pd.read_csv(\"data-TCGA.csv\")"
   ]
  },
  {
   "cell_type": "code",
   "execution_count": 3,
   "id": "8f12f62b",
   "metadata": {},
   "outputs": [],
   "source": [
    "df_gene = pd.DataFrame(data_gene_ex)"
   ]
  },
  {
   "cell_type": "code",
   "execution_count": 4,
   "id": "906d7133",
   "metadata": {},
   "outputs": [],
   "source": [
    "data_label = pd.read_csv(\"labels-TCGA.csv\")"
   ]
  },
  {
   "cell_type": "code",
   "execution_count": 5,
   "id": "408da80c",
   "metadata": {},
   "outputs": [],
   "source": [
    "df_label = pd.DataFrame(data_label)"
   ]
  },
  {
   "cell_type": "code",
   "execution_count": 6,
   "id": "3ede2730",
   "metadata": {},
   "outputs": [],
   "source": [
    "df_label.drop(columns=['Unnamed: 0'], inplace=True)"
   ]
  },
  {
   "cell_type": "code",
   "execution_count": 7,
   "id": "a248112f",
   "metadata": {},
   "outputs": [],
   "source": [
    "df_label['Class'].replace({'BRCA':0, 'KIRC':1, \"LUAD\":2, \"PRAD\":3, \"COAD\":4}, inplace=True)"
   ]
  },
  {
   "cell_type": "code",
   "execution_count": 8,
   "id": "1521f05e",
   "metadata": {},
   "outputs": [],
   "source": [
    "df_gene1 = df_gene.copy()\n",
    "df_gene1 = df_gene1.drop(columns=['Unnamed: 0'])"
   ]
  },
  {
   "cell_type": "code",
   "execution_count": 9,
   "id": "de5a7176",
   "metadata": {},
   "outputs": [],
   "source": [
    "df_gene2 = df_gene1.copy()\n",
    "df_gene2 = df_gene2.T.drop_duplicates().T"
   ]
  },
  {
   "cell_type": "code",
   "execution_count": 10,
   "id": "ec9ad915",
   "metadata": {},
   "outputs": [],
   "source": [
    "x = df_gene2\n",
    "y = df_label.values.reshape(-1,1)"
   ]
  },
  {
   "cell_type": "code",
   "execution_count": 12,
   "id": "b90638e0",
   "metadata": {},
   "outputs": [],
   "source": [
    "x_train, x_test, y_train, y_test = train_test_split(x,y,test_size=0.2,random_state=42)"
   ]
  },
  {
   "cell_type": "code",
   "execution_count": 13,
   "id": "e9098f1c",
   "metadata": {},
   "outputs": [],
   "source": [
    "# feature scaling\n",
    "scaler = StandardScaler()\n",
    "x_train_scaled = scaler.fit_transform(x_train)\n",
    "x_test_scaled = scaler.transform(x_test)\n",
    "\n",
    "x_scaled = scaler.transform(x)"
   ]
  },
  {
   "cell_type": "markdown",
   "id": "17dbb25f",
   "metadata": {},
   "source": [
    "# Removing Low Variance Features"
   ]
  },
  {
   "cell_type": "code",
   "execution_count": 14,
   "id": "0ff21ca0",
   "metadata": {},
   "outputs": [],
   "source": [
    "# Calculate variance for each gene\n",
    "gene_variances_sorted = x_train.var(axis=0).sort_values(ascending=False)"
   ]
  },
  {
   "cell_type": "code",
   "execution_count": 15,
   "id": "bc461d76",
   "metadata": {},
   "outputs": [
    {
     "name": "stdout",
     "output_type": "stream",
     "text": [
      "Shape after keeping top 2000 genes: (640, 2000)\n",
      "Shape after keeping top 2000 genes: (161, 2000)\n"
     ]
    }
   ],
   "source": [
    "# Keep top N genes\n",
    "N = 2000\n",
    "top_genes = gene_variances_sorted.index[:N]\n",
    "x_train_top_var = x_train[top_genes]\n",
    "x_test_top_var = x_test[top_genes]\n",
    "\n",
    "x_new = x.copy()\n",
    "x_new = x_new[top_genes]\n",
    "\n",
    "print(f\"Shape after keeping top {N} genes:\", x_train_top_var.shape)\n",
    "print(f\"Shape after keeping top {N} genes:\", x_test_top_var.shape)"
   ]
  },
  {
   "cell_type": "markdown",
   "id": "60c7d3fa",
   "metadata": {},
   "source": [
    "# ANOVA"
   ]
  },
  {
   "cell_type": "code",
   "execution_count": 16,
   "id": "dc420eb0",
   "metadata": {},
   "outputs": [
    {
     "name": "stderr",
     "output_type": "stream",
     "text": [
      "C:\\Users\\AVIDEH\\anaconda3\\Lib\\site-packages\\sklearn\\utils\\validation.py:1184: DataConversionWarning: A column-vector y was passed when a 1d array was expected. Please change the shape of y to (n_samples, ), for example using ravel().\n",
      "  y = column_or_1d(y, warn=True)\n"
     ]
    }
   ],
   "source": [
    "# Feature selection\n",
    "selector = SelectKBest(f_classif, k=1000)\n",
    "x_train_sel = selector.fit_transform(x_train_top_var, y_train)\n",
    "x_test_sel = selector.transform(x_test_top_var)\n",
    "x_sel = selector.transform(x_new)"
   ]
  },
  {
   "cell_type": "code",
   "execution_count": 19,
   "id": "767ee3b3",
   "metadata": {},
   "outputs": [],
   "source": [
    "# Get the selected feature names\n",
    "selected_feature_names = x_train_top_var.columns[selector.get_support()]\n",
    "\n",
    "# Create DataFrames with selected features and their actual values\n",
    "x_train_selected_df = pd.DataFrame(x_train_sel, columns=selected_feature_names)\n",
    "x_test_selected_df = pd.DataFrame(x_test_sel, columns=selected_feature_names, index=x_test.index)\n",
    "x_selected_df = pd.DataFrame(x_sel, columns=selected_feature_names, index=x.index)\n"
   ]
  },
  {
   "cell_type": "markdown",
   "id": "4d630927",
   "metadata": {},
   "source": [
    "# PCA"
   ]
  },
  {
   "cell_type": "code",
   "execution_count": 20,
   "id": "507ad18e",
   "metadata": {},
   "outputs": [],
   "source": [
    "pca = PCA(n_components=100)\n",
    "x_train_final = pca.fit_transform(x_train_selected_df)\n",
    "x_test_final = pca.transform(x_test_selected_df)"
   ]
  },
  {
   "cell_type": "code",
   "execution_count": 21,
   "id": "d6cc6e37",
   "metadata": {},
   "outputs": [],
   "source": [
    "# svm model with different kernels and degree = 3 and gamma= 0.7\n",
    "\n",
    "\n",
    "def svm(x_tr, x_te):\n",
    "    \n",
    "    for k in ['linear', 'rbf', 'poly']:\n",
    "        \n",
    "        svm_model = SVC(kernel=k, degree=3, gamma=0.7)\n",
    "        start = time.time()\n",
    "        svm_model.fit(x_tr, y_train.ravel())\n",
    "        train_time = time.time() - start\n",
    "\n",
    "        y_svm_pred = svm_model.predict(x_te)\n",
    "        acc = accuracy_score(y_test, y_svm_pred)\n",
    "\n",
    "        \n",
    "        print(f\"{k}, accuracy = {acc:.4f}, training_time = {train_time:.4f} sec\")"
   ]
  },
  {
   "cell_type": "code",
   "execution_count": 22,
   "id": "99724563",
   "metadata": {},
   "outputs": [
    {
     "name": "stdout",
     "output_type": "stream",
     "text": [
      "linear, accuracy = 1.0000, training_time = 0.2494 sec\n",
      "rbf, accuracy = 0.3789, training_time = 0.1099 sec\n",
      "poly, accuracy = 1.0000, training_time = 0.0100 sec\n"
     ]
    }
   ],
   "source": [
    "svm(x_train_final,x_test_final)"
   ]
  },
  {
   "cell_type": "code",
   "execution_count": 23,
   "id": "8bd1f1df",
   "metadata": {},
   "outputs": [],
   "source": [
    "svm_model1 = SVC(kernel='poly', degree=3, gamma=0.7)\n",
    "\n",
    "svm_model1.fit(x_train_final, y_train.ravel())\n",
    "\n",
    "y_svm_pred1 = svm_model1.predict(x_test_final)"
   ]
  },
  {
   "cell_type": "code",
   "execution_count": 24,
   "id": "17c73afd",
   "metadata": {},
   "outputs": [
    {
     "name": "stdout",
     "output_type": "stream",
     "text": [
      "              precision    recall  f1-score   support\n",
      "\n",
      "           0       1.00      1.00      1.00        61\n",
      "           1       1.00      1.00      1.00        25\n",
      "           2       1.00      1.00      1.00        29\n",
      "           3       1.00      1.00      1.00        29\n",
      "           4       1.00      1.00      1.00        17\n",
      "\n",
      "    accuracy                           1.00       161\n",
      "   macro avg       1.00      1.00      1.00       161\n",
      "weighted avg       1.00      1.00      1.00       161\n",
      "\n"
     ]
    }
   ],
   "source": [
    "# Report of svm with kernel = ploy and degree=3 and gamma=0.7\n",
    "print(classification_report(y_test, svm_model1.predict(x_test_final)))"
   ]
  },
  {
   "cell_type": "code",
   "execution_count": 25,
   "id": "f6d448c6",
   "metadata": {},
   "outputs": [
    {
     "name": "stdout",
     "output_type": "stream",
     "text": [
      "              precision    recall  f1-score   support\n",
      "\n",
      "           0       1.00      1.00      1.00        61\n",
      "           1       1.00      1.00      1.00        25\n",
      "           2       1.00      1.00      1.00        29\n",
      "           3       1.00      1.00      1.00        29\n",
      "           4       1.00      1.00      1.00        17\n",
      "\n",
      "    accuracy                           1.00       161\n",
      "   macro avg       1.00      1.00      1.00       161\n",
      "weighted avg       1.00      1.00      1.00       161\n",
      "\n"
     ]
    }
   ],
   "source": [
    "# Report of svm with kernel = linear and degree=3 and gamma=0.7\n",
    "\n",
    "svm_model2 = SVC(kernel='poly', degree=3, gamma=0.7)\n",
    "\n",
    "svm_model2.fit(x_train_final, y_train.ravel())\n",
    "\n",
    "y_svm_pred2 = svm_model2.predict(x_test_final)\n",
    "\n",
    "\n",
    "print(classification_report(y_test, svm_model2.predict(x_test_final)))"
   ]
  },
  {
   "cell_type": "code",
   "execution_count": 26,
   "id": "2976bf60",
   "metadata": {},
   "outputs": [
    {
     "name": "stdout",
     "output_type": "stream",
     "text": [
      "              precision    recall  f1-score   support\n",
      "\n",
      "           0       0.38      1.00      0.55        61\n",
      "           1       0.00      0.00      0.00        25\n",
      "           2       0.00      0.00      0.00        29\n",
      "           3       0.00      0.00      0.00        29\n",
      "           4       0.00      0.00      0.00        17\n",
      "\n",
      "    accuracy                           0.38       161\n",
      "   macro avg       0.08      0.20      0.11       161\n",
      "weighted avg       0.14      0.38      0.21       161\n",
      "\n"
     ]
    },
    {
     "name": "stderr",
     "output_type": "stream",
     "text": [
      "C:\\Users\\AVIDEH\\anaconda3\\Lib\\site-packages\\sklearn\\metrics\\_classification.py:1469: UndefinedMetricWarning: Precision and F-score are ill-defined and being set to 0.0 in labels with no predicted samples. Use `zero_division` parameter to control this behavior.\n",
      "  _warn_prf(average, modifier, msg_start, len(result))\n",
      "C:\\Users\\AVIDEH\\anaconda3\\Lib\\site-packages\\sklearn\\metrics\\_classification.py:1469: UndefinedMetricWarning: Precision and F-score are ill-defined and being set to 0.0 in labels with no predicted samples. Use `zero_division` parameter to control this behavior.\n",
      "  _warn_prf(average, modifier, msg_start, len(result))\n",
      "C:\\Users\\AVIDEH\\anaconda3\\Lib\\site-packages\\sklearn\\metrics\\_classification.py:1469: UndefinedMetricWarning: Precision and F-score are ill-defined and being set to 0.0 in labels with no predicted samples. Use `zero_division` parameter to control this behavior.\n",
      "  _warn_prf(average, modifier, msg_start, len(result))\n"
     ]
    }
   ],
   "source": [
    "# Report of svm with kernel = linear and degree=3 and gamma=0.7\n",
    "\n",
    "svm_model3 = SVC(kernel='rbf', degree=3, gamma=0.7)\n",
    "\n",
    "svm_model3.fit(x_train_final, y_train.ravel())\n",
    "\n",
    "y_svm_pred3 = svm_model3.predict(x_test_final)\n",
    "\n",
    "\n",
    "print(classification_report(y_test, svm_model3.predict(x_test_final)))"
   ]
  },
  {
   "cell_type": "code",
   "execution_count": 27,
   "id": "125afb91",
   "metadata": {},
   "outputs": [
    {
     "name": "stdout",
     "output_type": "stream",
     "text": [
      "linear, accuracy = 1.0000, training_time = 0.0148 sec\n",
      "rbf, accuracy = 1.0000, training_time = 0.0152 sec\n",
      "poly, accuracy = 0.9938, training_time = 0.0130 sec\n"
     ]
    }
   ],
   "source": [
    "def svm (x_tr, x_te):\n",
    "\n",
    "      for k in ['linear', 'rbf', 'poly']:\n",
    "\n",
    "        svm_model = SVC(kernel= k)\n",
    "\n",
    "        start = time.time()\n",
    "\n",
    "        svm_model.fit(x_tr, y_train.ravel())\n",
    "        train_time = time.time() - start\n",
    "\n",
    "        y_svm_pred = svm_model.predict(x_te)\n",
    "\n",
    "        acc = accuracy_score(y_test, y_svm_pred)\n",
    "\n",
    "        \n",
    "        print(f\"{k}, accuracy = {acc:.4f}, training_time = {train_time:.4f} sec\")\n",
    "\n",
    "        \n",
    "\n",
    "svm(x_train_final,x_test_final)"
   ]
  },
  {
   "cell_type": "code",
   "execution_count": 28,
   "id": "2d56dcba",
   "metadata": {},
   "outputs": [
    {
     "name": "stdout",
     "output_type": "stream",
     "text": [
      "              precision    recall  f1-score   support\n",
      "\n",
      "           0       1.00      1.00      1.00        61\n",
      "           1       1.00      1.00      1.00        25\n",
      "           2       1.00      1.00      1.00        29\n",
      "           3       1.00      1.00      1.00        29\n",
      "           4       1.00      1.00      1.00        17\n",
      "\n",
      "    accuracy                           1.00       161\n",
      "   macro avg       1.00      1.00      1.00       161\n",
      "weighted avg       1.00      1.00      1.00       161\n",
      "\n"
     ]
    }
   ],
   "source": [
    "# Report of svm with kernel = linear \n",
    "\n",
    "svm_model4 = SVC(kernel='linear')\n",
    "\n",
    "svm_model4.fit(x_train_final, y_train.ravel())\n",
    "\n",
    "y_svm_pred4 = svm_model4.predict(x_test_final)\n",
    "\n",
    "\n",
    "print(classification_report(y_test, svm_model4.predict(x_test_final)))"
   ]
  },
  {
   "cell_type": "code",
   "execution_count": 29,
   "id": "051556b9",
   "metadata": {},
   "outputs": [
    {
     "name": "stdout",
     "output_type": "stream",
     "text": [
      "              precision    recall  f1-score   support\n",
      "\n",
      "           0       1.00      1.00      1.00        61\n",
      "           1       1.00      1.00      1.00        25\n",
      "           2       1.00      1.00      1.00        29\n",
      "           3       1.00      1.00      1.00        29\n",
      "           4       1.00      1.00      1.00        17\n",
      "\n",
      "    accuracy                           1.00       161\n",
      "   macro avg       1.00      1.00      1.00       161\n",
      "weighted avg       1.00      1.00      1.00       161\n",
      "\n"
     ]
    }
   ],
   "source": [
    "# Report of svm with kernel = rbf\n",
    "\n",
    "svm_model5 = SVC(kernel='rbf')\n",
    "\n",
    "svm_model5.fit(x_train_final, y_train.ravel())\n",
    "\n",
    "y_svm_pred5 = svm_model5.predict(x_test_final)\n",
    "\n",
    "\n",
    "print(classification_report(y_test, svm_model5.predict(x_test_final)))"
   ]
  },
  {
   "cell_type": "code",
   "execution_count": 30,
   "id": "27fc194f",
   "metadata": {},
   "outputs": [
    {
     "name": "stdout",
     "output_type": "stream",
     "text": [
      "              precision    recall  f1-score   support\n",
      "\n",
      "           0       0.98      1.00      0.99        61\n",
      "           1       1.00      0.96      0.98        25\n",
      "           2       1.00      1.00      1.00        29\n",
      "           3       1.00      1.00      1.00        29\n",
      "           4       1.00      1.00      1.00        17\n",
      "\n",
      "    accuracy                           0.99       161\n",
      "   macro avg       1.00      0.99      0.99       161\n",
      "weighted avg       0.99      0.99      0.99       161\n",
      "\n"
     ]
    }
   ],
   "source": [
    "# Report of svm with kernel = poly \n",
    "\n",
    "svm_model6 = SVC(kernel='poly')\n",
    "\n",
    "svm_model6.fit(x_train_final, y_train.ravel())\n",
    "\n",
    "y_svm_pred6 = svm_model6.predict(x_test_final)\n",
    "\n",
    "\n",
    "print(classification_report(y_test, svm_model6.predict(x_test_final)))"
   ]
  },
  {
   "cell_type": "markdown",
   "id": "65b671f2",
   "metadata": {},
   "source": [
    "We can see that in comparison with LDA, PCA has far better\n",
    "performance and higher accuracy in most of the models to classify diffrent cancer types."
   ]
  }
 ],
 "metadata": {
  "kernelspec": {
   "display_name": "Python 3 (ipykernel)",
   "language": "python",
   "name": "python3"
  },
  "language_info": {
   "codemirror_mode": {
    "name": "ipython",
    "version": 3
   },
   "file_extension": ".py",
   "mimetype": "text/x-python",
   "name": "python",
   "nbconvert_exporter": "python",
   "pygments_lexer": "ipython3",
   "version": "3.11.5"
  }
 },
 "nbformat": 4,
 "nbformat_minor": 5
}
