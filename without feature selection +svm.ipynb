{
 "cells": [
  {
   "cell_type": "code",
   "execution_count": 1,
   "id": "2ece2fcc",
   "metadata": {},
   "outputs": [],
   "source": [
    "import pandas as pd\n",
    "import numpy as np\n",
    "import matplotlib.pyplot as plt\n",
    "from sklearn.preprocessing import StandardScaler\n",
    "from sklearn.model_selection import train_test_split\n",
    "from sklearn.svm import SVC\n",
    "import time\n",
    "from sklearn.metrics import accuracy_score, classification_report\n"
   ]
  },
  {
   "cell_type": "code",
   "execution_count": 2,
   "id": "06fbc193",
   "metadata": {},
   "outputs": [],
   "source": [
    "data_gene_ex = pd.read_csv(\"data-TCGA.csv\")"
   ]
  },
  {
   "cell_type": "code",
   "execution_count": 3,
   "id": "b75cf792",
   "metadata": {},
   "outputs": [],
   "source": [
    "df_gene = pd.DataFrame(data_gene_ex)"
   ]
  },
  {
   "cell_type": "code",
   "execution_count": 4,
   "id": "0f7b62b2",
   "metadata": {},
   "outputs": [],
   "source": [
    "data_label = pd.read_csv(\"labels-TCGA.csv\")"
   ]
  },
  {
   "cell_type": "code",
   "execution_count": 5,
   "id": "6124db54",
   "metadata": {},
   "outputs": [],
   "source": [
    "df_label = pd.DataFrame(data_label)"
   ]
  },
  {
   "cell_type": "code",
   "execution_count": 6,
   "id": "16718bd7",
   "metadata": {},
   "outputs": [],
   "source": [
    "df_label.drop(columns=['Unnamed: 0'], inplace=True)"
   ]
  },
  {
   "cell_type": "code",
   "execution_count": 7,
   "id": "aef4c7c5",
   "metadata": {},
   "outputs": [],
   "source": [
    "df_label['Class'].replace({'BRCA':0, 'KIRC':1, \"LUAD\":2, \"PRAD\":3, \"COAD\":4}, inplace=True)"
   ]
  },
  {
   "cell_type": "code",
   "execution_count": 8,
   "id": "1fdf27f7",
   "metadata": {},
   "outputs": [],
   "source": [
    "df_gene1 = df_gene.copy()\n",
    "df_gene1 = df_gene1.drop(columns=['Unnamed: 0'])"
   ]
  },
  {
   "cell_type": "code",
   "execution_count": 9,
   "id": "646151fd",
   "metadata": {},
   "outputs": [],
   "source": [
    "df_gene2 = df_gene1.copy()\n",
    "df_gene2 = df_gene2.T.drop_duplicates().T"
   ]
  },
  {
   "cell_type": "code",
   "execution_count": 10,
   "id": "cef6effc",
   "metadata": {},
   "outputs": [],
   "source": [
    "x = df_gene2\n",
    "y = df_label.values.reshape(-1,1)"
   ]
  },
  {
   "cell_type": "code",
   "execution_count": 11,
   "id": "30a89f78",
   "metadata": {},
   "outputs": [],
   "source": [
    "x_train, x_test, y_train, y_test = train_test_split(x,y,test_size=0.2,random_state=42)"
   ]
  },
  {
   "cell_type": "code",
   "execution_count": 12,
   "id": "b52727a7",
   "metadata": {},
   "outputs": [],
   "source": [
    "# feature scaling\n",
    "scaler = StandardScaler()\n",
    "x_train_scaled = scaler.fit_transform(x_train)\n",
    "x_test_scaled = scaler.transform(x_test)\n",
    "\n",
    "x_scaled = scaler.transform(x)"
   ]
  },
  {
   "cell_type": "code",
   "execution_count": 13,
   "id": "06215dd8",
   "metadata": {},
   "outputs": [],
   "source": [
    "# svm model with different kernels and degree = 3 and gamma= 0.7\n",
    "\n",
    "\n",
    "def svm(x_tr, x_te):\n",
    "    \n",
    "    for k in ['linear', 'rbf', 'poly']:\n",
    "        \n",
    "        svm_model = SVC(kernel=k, degree=3, gamma=0.7)\n",
    "        start = time.time()\n",
    "        svm_model.fit(x_tr, y_train.ravel())\n",
    "        train_time = time.time() - start\n",
    "\n",
    "        y_svm_pred = svm_model.predict(x_te)\n",
    "        acc = accuracy_score(y_test, y_svm_pred)\n",
    "\n",
    "        \n",
    "        print(f\"{k}, accuracy = {acc:.4f}, training_time = {train_time:.4f} sec\")"
   ]
  },
  {
   "cell_type": "code",
   "execution_count": 14,
   "id": "597db1f1",
   "metadata": {},
   "outputs": [
    {
     "name": "stdout",
     "output_type": "stream",
     "text": [
      "linear, accuracy = 1.0000, training_time = 4.9461 sec\n",
      "rbf, accuracy = 0.3789, training_time = 14.8730 sec\n",
      "poly, accuracy = 0.9752, training_time = 13.0327 sec\n"
     ]
    }
   ],
   "source": [
    "svm(x_train_scaled,x_test_scaled)"
   ]
  },
  {
   "cell_type": "code",
   "execution_count": 16,
   "id": "2789a09e",
   "metadata": {},
   "outputs": [],
   "source": [
    "svm_model1 = SVC(kernel='poly', degree=3, gamma=0.7)\n",
    "\n",
    "svm_model1.fit(x_train_scaled, y_train.ravel())\n",
    "\n",
    "y_svm_pred1 = svm_model1.predict(x_test_scaled)"
   ]
  },
  {
   "cell_type": "code",
   "execution_count": 17,
   "id": "ea00685c",
   "metadata": {},
   "outputs": [
    {
     "name": "stdout",
     "output_type": "stream",
     "text": [
      "              precision    recall  f1-score   support\n",
      "\n",
      "           0       0.94      1.00      0.97        61\n",
      "           1       1.00      0.96      0.98        25\n",
      "           2       1.00      0.97      0.98        29\n",
      "           3       1.00      0.97      0.98        29\n",
      "           4       1.00      0.94      0.97        17\n",
      "\n",
      "    accuracy                           0.98       161\n",
      "   macro avg       0.99      0.97      0.98       161\n",
      "weighted avg       0.98      0.98      0.98       161\n",
      "\n"
     ]
    }
   ],
   "source": [
    "# Report of svm with kernel = ploy and degree=3 and gamma=0.7\n",
    "print(classification_report(y_test, svm_model1.predict(x_test_scaled)))"
   ]
  },
  {
   "cell_type": "code",
   "execution_count": 18,
   "id": "cbf0eee9",
   "metadata": {},
   "outputs": [
    {
     "name": "stdout",
     "output_type": "stream",
     "text": [
      "              precision    recall  f1-score   support\n",
      "\n",
      "           0       0.94      1.00      0.97        61\n",
      "           1       1.00      0.96      0.98        25\n",
      "           2       1.00      0.97      0.98        29\n",
      "           3       1.00      0.97      0.98        29\n",
      "           4       1.00      0.94      0.97        17\n",
      "\n",
      "    accuracy                           0.98       161\n",
      "   macro avg       0.99      0.97      0.98       161\n",
      "weighted avg       0.98      0.98      0.98       161\n",
      "\n"
     ]
    }
   ],
   "source": [
    "# Report of svm with kernel = linear and degree=3 and gamma=0.7\n",
    "\n",
    "svm_model2 = SVC(kernel='poly', degree=3, gamma=0.7)\n",
    "\n",
    "svm_model2.fit(x_train_scaled, y_train.ravel())\n",
    "\n",
    "y_svm_pred2 = svm_model2.predict(x_test_scaled)\n",
    "\n",
    "\n",
    "print(classification_report(y_test, svm_model2.predict(x_test_scaled)))"
   ]
  },
  {
   "cell_type": "code",
   "execution_count": 19,
   "id": "a7e4ecc5",
   "metadata": {},
   "outputs": [
    {
     "name": "stdout",
     "output_type": "stream",
     "text": [
      "              precision    recall  f1-score   support\n",
      "\n",
      "           0       0.38      1.00      0.55        61\n",
      "           1       0.00      0.00      0.00        25\n",
      "           2       0.00      0.00      0.00        29\n",
      "           3       0.00      0.00      0.00        29\n",
      "           4       0.00      0.00      0.00        17\n",
      "\n",
      "    accuracy                           0.38       161\n",
      "   macro avg       0.08      0.20      0.11       161\n",
      "weighted avg       0.14      0.38      0.21       161\n",
      "\n"
     ]
    },
    {
     "name": "stderr",
     "output_type": "stream",
     "text": [
      "C:\\Users\\AVIDEH\\anaconda3\\Lib\\site-packages\\sklearn\\metrics\\_classification.py:1469: UndefinedMetricWarning: Precision and F-score are ill-defined and being set to 0.0 in labels with no predicted samples. Use `zero_division` parameter to control this behavior.\n",
      "  _warn_prf(average, modifier, msg_start, len(result))\n",
      "C:\\Users\\AVIDEH\\anaconda3\\Lib\\site-packages\\sklearn\\metrics\\_classification.py:1469: UndefinedMetricWarning: Precision and F-score are ill-defined and being set to 0.0 in labels with no predicted samples. Use `zero_division` parameter to control this behavior.\n",
      "  _warn_prf(average, modifier, msg_start, len(result))\n",
      "C:\\Users\\AVIDEH\\anaconda3\\Lib\\site-packages\\sklearn\\metrics\\_classification.py:1469: UndefinedMetricWarning: Precision and F-score are ill-defined and being set to 0.0 in labels with no predicted samples. Use `zero_division` parameter to control this behavior.\n",
      "  _warn_prf(average, modifier, msg_start, len(result))\n"
     ]
    }
   ],
   "source": [
    "# Report of svm with kernel = linear and degree=3 and gamma=0.7\n",
    "\n",
    "svm_model3 = SVC(kernel='rbf', degree=3, gamma=0.7)\n",
    "\n",
    "svm_model3.fit(x_train_scaled, y_train.ravel())\n",
    "\n",
    "y_svm_pred3 = svm_model3.predict(x_test_scaled)\n",
    "\n",
    "\n",
    "print(classification_report(y_test, svm_model3.predict(x_test_scaled)))"
   ]
  },
  {
   "cell_type": "code",
   "execution_count": 20,
   "id": "50939a8b",
   "metadata": {},
   "outputs": [
    {
     "name": "stdout",
     "output_type": "stream",
     "text": [
      "linear, accuracy = 1.0000, training_time = 3.5842 sec\n",
      "rbf, accuracy = 0.9938, training_time = 6.9979 sec\n",
      "poly, accuracy = 0.9752, training_time = 13.3680 sec\n"
     ]
    }
   ],
   "source": [
    "def svm (x_tr, x_te):\n",
    "\n",
    "      for k in ['linear', 'rbf', 'poly']:\n",
    "\n",
    "        svm_model = SVC(kernel= k)\n",
    "\n",
    "        start = time.time()\n",
    "\n",
    "        svm_model.fit(x_tr, y_train.ravel())\n",
    "        train_time = time.time() - start\n",
    "\n",
    "        y_svm_pred = svm_model.predict(x_te)\n",
    "\n",
    "        acc = accuracy_score(y_test, y_svm_pred)\n",
    "\n",
    "        \n",
    "        print(f\"{k}, accuracy = {acc:.4f}, training_time = {train_time:.4f} sec\")\n",
    "\n",
    "        \n",
    "\n",
    "svm(x_train_scaled,x_test_scaled)"
   ]
  },
  {
   "cell_type": "code",
   "execution_count": 21,
   "id": "88e60c34",
   "metadata": {},
   "outputs": [
    {
     "name": "stdout",
     "output_type": "stream",
     "text": [
      "              precision    recall  f1-score   support\n",
      "\n",
      "           0       1.00      1.00      1.00        61\n",
      "           1       1.00      1.00      1.00        25\n",
      "           2       1.00      1.00      1.00        29\n",
      "           3       1.00      1.00      1.00        29\n",
      "           4       1.00      1.00      1.00        17\n",
      "\n",
      "    accuracy                           1.00       161\n",
      "   macro avg       1.00      1.00      1.00       161\n",
      "weighted avg       1.00      1.00      1.00       161\n",
      "\n"
     ]
    }
   ],
   "source": [
    "# Report of svm with kernel = linear \n",
    "\n",
    "svm_model4 = SVC(kernel='linear')\n",
    "\n",
    "svm_model4.fit(x_train_scaled, y_train.ravel())\n",
    "\n",
    "y_svm_pred4 = svm_model4.predict(x_test_scaled)\n",
    "\n",
    "\n",
    "print(classification_report(y_test, svm_model4.predict(x_test_scaled)))"
   ]
  },
  {
   "cell_type": "code",
   "execution_count": 22,
   "id": "efb2ecbc",
   "metadata": {},
   "outputs": [
    {
     "name": "stdout",
     "output_type": "stream",
     "text": [
      "              precision    recall  f1-score   support\n",
      "\n",
      "           0       0.98      1.00      0.99        61\n",
      "           1       1.00      1.00      1.00        25\n",
      "           2       1.00      1.00      1.00        29\n",
      "           3       1.00      0.97      0.98        29\n",
      "           4       1.00      1.00      1.00        17\n",
      "\n",
      "    accuracy                           0.99       161\n",
      "   macro avg       1.00      0.99      0.99       161\n",
      "weighted avg       0.99      0.99      0.99       161\n",
      "\n"
     ]
    }
   ],
   "source": [
    "# Report of svm with kernel = rbf\n",
    "\n",
    "svm_model5 = SVC(kernel='rbf')\n",
    "\n",
    "svm_model5.fit(x_train_scaled, y_train.ravel())\n",
    "\n",
    "y_svm_pred5 = svm_model5.predict(x_test_scaled)\n",
    "\n",
    "\n",
    "print(classification_report(y_test, svm_model5.predict(x_test_scaled)))"
   ]
  },
  {
   "cell_type": "code",
   "execution_count": 23,
   "id": "6bd0775a",
   "metadata": {},
   "outputs": [
    {
     "name": "stdout",
     "output_type": "stream",
     "text": [
      "              precision    recall  f1-score   support\n",
      "\n",
      "           0       0.94      1.00      0.97        61\n",
      "           1       1.00      0.96      0.98        25\n",
      "           2       1.00      0.97      0.98        29\n",
      "           3       1.00      0.97      0.98        29\n",
      "           4       1.00      0.94      0.97        17\n",
      "\n",
      "    accuracy                           0.98       161\n",
      "   macro avg       0.99      0.97      0.98       161\n",
      "weighted avg       0.98      0.98      0.98       161\n",
      "\n"
     ]
    }
   ],
   "source": [
    "# Report of svm with kernel = poly \n",
    "\n",
    "svm_model6 = SVC(kernel='poly')\n",
    "\n",
    "svm_model6.fit(x_train_scaled, y_train.ravel())\n",
    "\n",
    "y_svm_pred6 = svm_model6.predict(x_test_scaled)\n",
    "\n",
    "\n",
    "print(classification_report(y_test, svm_model6.predict(x_test_scaled)))"
   ]
  },
  {
   "cell_type": "code",
   "execution_count": null,
   "id": "6d7f026f",
   "metadata": {},
   "outputs": [],
   "source": []
  }
 ],
 "metadata": {
  "kernelspec": {
   "display_name": "Python 3 (ipykernel)",
   "language": "python",
   "name": "python3"
  },
  "language_info": {
   "codemirror_mode": {
    "name": "ipython",
    "version": 3
   },
   "file_extension": ".py",
   "mimetype": "text/x-python",
   "name": "python",
   "nbconvert_exporter": "python",
   "pygments_lexer": "ipython3",
   "version": "3.11.5"
  }
 },
 "nbformat": 4,
 "nbformat_minor": 5
}
